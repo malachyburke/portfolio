{
 "cells": [
  {
   "cell_type": "markdown",
   "metadata": {},
   "source": [
    "**Designing the Perfect Olympian with Python** </br>\n",
    "\n",
    "Every four years, millions of sports fans from around the world gather to watch their favorite athletes compete in the Olympic Games. We are amazed at the achievements of these athletes and on occasion, we are able to witness true , once in a generation, greatness. Michael Phelps, Larisa Latynina, and Jesse Owens are just a few of the many legends that have been made at the Olympics. </br>\n",
    "\n",
    "Is it possible, though, to create the perfect Olympian - independent of sport? What would they look like? Where would they be from? Below we will take a look at raw data of listing every Olympian since the founding of the Modern Games in 1896. We will take a look at what makes an Olympian great, and, if it is possible to create the \"perfect Olympian.\""
   ]
  },
  {
   "cell_type": "code",
   "execution_count": 1,
   "metadata": {},
   "outputs": [],
   "source": [
    "import numpy as np\n",
    "import pandas as pd\n",
    "import matplotlib.pyplot as plt\n",
    "from IPython.display import Image"
   ]
  },
  {
   "cell_type": "code",
   "execution_count": 2,
   "metadata": {},
   "outputs": [
    {
     "data": {
      "text/html": [
       "<img src=\"https://goo.gl/F3dV3c\" width=\"350\" height=\"350\"/>"
      ],
      "text/plain": [
       "<IPython.core.display.Image object>"
      ]
     },
     "execution_count": 2,
     "metadata": {},
     "output_type": "execute_result"
    }
   ],
   "source": [
    "Image(url = 'https://goo.gl/F3dV3c', width=350, height=350)"
   ]
  },
  {
   "cell_type": "markdown",
   "metadata": {},
   "source": [
    "Our data comes from Kaggle.com's Featured Dataset on Olympians, which we will read as a CSV below using the Pandas Data Analysis Library."
   ]
  },
  {
   "cell_type": "code",
   "execution_count": 3,
   "metadata": {},
   "outputs": [],
   "source": [
    "filepath = '/Users/mal/Downloads/athlete_events.csv'"
   ]
  },
  {
   "cell_type": "code",
   "execution_count": 4,
   "metadata": {},
   "outputs": [],
   "source": [
    "df = pd.read_csv(filepath)"
   ]
  },
  {
   "cell_type": "markdown",
   "metadata": {},
   "source": [
    "After reading our CSV into a Pandas Dataframe, we are able to see the columns that make up our data. The columns are:\n",
    "    \n",
    "**ID:**      Athlete Identification Number <br/>\n",
    "**Name:**    Name of the Athlete <br/>\n",
    "**Sex:**     Gender of the Athlete <br/>\n",
    "**Age:**     Age in Years <br/>\n",
    "**Height:**  Height in Centimeters <br/>\n",
    "**Weight:**  Weight in Kilograms <br/>\n",
    "**Team:**    Country of the Athlete <br/>\n",
    "**NOC:**     Nationality or Country <br/>\n",
    "**Games:**   Which Olympics the Event Took Place In <br/>\n",
    "**Year:**    Year of the Olympic Games in which the Athlete Competed <br/>\n",
    "**Season:**  Winter or Summer Olympics <br/>\n",
    "**City:**    City in which the Olympic Games took Place <br/>\n",
    "**Sport:**   Sport that the Athlete Competed in for this Event <br/>\n",
    "**Event:**   Specific Event that the Athlete Competed In <br/>\n",
    "**Medal:**   Resulting Medal of the Athlete in the listed Event (if any) <br/>\n",
    "\n",
    "As you can see below, our data is a bit messy and hard to follow. First, we must remove excess and/or repetitive data to give us a more clear picture of what it is exactly that we are looking at and if our data tells us anything that is noteworthy."
   ]
  },
  {
   "cell_type": "code",
   "execution_count": 5,
   "metadata": {},
   "outputs": [
    {
     "data": {
      "text/html": [
       "<div>\n",
       "<table border=\"1\" class=\"dataframe\">\n",
       "  <thead>\n",
       "    <tr style=\"text-align: right;\">\n",
       "      <th></th>\n",
       "      <th>ID</th>\n",
       "      <th>Name</th>\n",
       "      <th>Sex</th>\n",
       "      <th>Age</th>\n",
       "      <th>Height</th>\n",
       "      <th>Weight</th>\n",
       "      <th>Team</th>\n",
       "      <th>NOC</th>\n",
       "      <th>Games</th>\n",
       "      <th>Year</th>\n",
       "      <th>Season</th>\n",
       "      <th>City</th>\n",
       "      <th>Sport</th>\n",
       "      <th>Event</th>\n",
       "      <th>Medal</th>\n",
       "    </tr>\n",
       "  </thead>\n",
       "  <tbody>\n",
       "    <tr>\n",
       "      <th>0</th>\n",
       "      <td>1</td>\n",
       "      <td>A Dijiang</td>\n",
       "      <td>M</td>\n",
       "      <td>24.0</td>\n",
       "      <td>180.0</td>\n",
       "      <td>80.0</td>\n",
       "      <td>China</td>\n",
       "      <td>CHN</td>\n",
       "      <td>1992 Summer</td>\n",
       "      <td>1992</td>\n",
       "      <td>Summer</td>\n",
       "      <td>Barcelona</td>\n",
       "      <td>Basketball</td>\n",
       "      <td>Basketball Men's Basketball</td>\n",
       "      <td>NaN</td>\n",
       "    </tr>\n",
       "    <tr>\n",
       "      <th>1</th>\n",
       "      <td>2</td>\n",
       "      <td>A Lamusi</td>\n",
       "      <td>M</td>\n",
       "      <td>23.0</td>\n",
       "      <td>170.0</td>\n",
       "      <td>60.0</td>\n",
       "      <td>China</td>\n",
       "      <td>CHN</td>\n",
       "      <td>2012 Summer</td>\n",
       "      <td>2012</td>\n",
       "      <td>Summer</td>\n",
       "      <td>London</td>\n",
       "      <td>Judo</td>\n",
       "      <td>Judo Men's Extra-Lightweight</td>\n",
       "      <td>NaN</td>\n",
       "    </tr>\n",
       "    <tr>\n",
       "      <th>2</th>\n",
       "      <td>3</td>\n",
       "      <td>Gunnar Nielsen Aaby</td>\n",
       "      <td>M</td>\n",
       "      <td>24.0</td>\n",
       "      <td>NaN</td>\n",
       "      <td>NaN</td>\n",
       "      <td>Denmark</td>\n",
       "      <td>DEN</td>\n",
       "      <td>1920 Summer</td>\n",
       "      <td>1920</td>\n",
       "      <td>Summer</td>\n",
       "      <td>Antwerpen</td>\n",
       "      <td>Football</td>\n",
       "      <td>Football Men's Football</td>\n",
       "      <td>NaN</td>\n",
       "    </tr>\n",
       "    <tr>\n",
       "      <th>3</th>\n",
       "      <td>4</td>\n",
       "      <td>Edgar Lindenau Aabye</td>\n",
       "      <td>M</td>\n",
       "      <td>34.0</td>\n",
       "      <td>NaN</td>\n",
       "      <td>NaN</td>\n",
       "      <td>Denmark/Sweden</td>\n",
       "      <td>DEN</td>\n",
       "      <td>1900 Summer</td>\n",
       "      <td>1900</td>\n",
       "      <td>Summer</td>\n",
       "      <td>Paris</td>\n",
       "      <td>Tug-Of-War</td>\n",
       "      <td>Tug-Of-War Men's Tug-Of-War</td>\n",
       "      <td>Gold</td>\n",
       "    </tr>\n",
       "    <tr>\n",
       "      <th>4</th>\n",
       "      <td>5</td>\n",
       "      <td>Christine Jacoba Aaftink</td>\n",
       "      <td>F</td>\n",
       "      <td>21.0</td>\n",
       "      <td>185.0</td>\n",
       "      <td>82.0</td>\n",
       "      <td>Netherlands</td>\n",
       "      <td>NED</td>\n",
       "      <td>1988 Winter</td>\n",
       "      <td>1988</td>\n",
       "      <td>Winter</td>\n",
       "      <td>Calgary</td>\n",
       "      <td>Speed Skating</td>\n",
       "      <td>Speed Skating Women's 500 metres</td>\n",
       "      <td>NaN</td>\n",
       "    </tr>\n",
       "  </tbody>\n",
       "</table>\n",
       "</div>"
      ],
      "text/plain": [
       "   ID                      Name Sex   Age  Height  Weight            Team  \\\n",
       "0   1                 A Dijiang   M  24.0   180.0    80.0           China   \n",
       "1   2                  A Lamusi   M  23.0   170.0    60.0           China   \n",
       "2   3       Gunnar Nielsen Aaby   M  24.0     NaN     NaN         Denmark   \n",
       "3   4      Edgar Lindenau Aabye   M  34.0     NaN     NaN  Denmark/Sweden   \n",
       "4   5  Christine Jacoba Aaftink   F  21.0   185.0    82.0     Netherlands   \n",
       "\n",
       "   NOC        Games  Year  Season       City          Sport  \\\n",
       "0  CHN  1992 Summer  1992  Summer  Barcelona     Basketball   \n",
       "1  CHN  2012 Summer  2012  Summer     London           Judo   \n",
       "2  DEN  1920 Summer  1920  Summer  Antwerpen       Football   \n",
       "3  DEN  1900 Summer  1900  Summer      Paris     Tug-Of-War   \n",
       "4  NED  1988 Winter  1988  Winter    Calgary  Speed Skating   \n",
       "\n",
       "                              Event Medal  \n",
       "0       Basketball Men's Basketball   NaN  \n",
       "1      Judo Men's Extra-Lightweight   NaN  \n",
       "2           Football Men's Football   NaN  \n",
       "3       Tug-Of-War Men's Tug-Of-War  Gold  \n",
       "4  Speed Skating Women's 500 metres   NaN  "
      ]
     },
     "execution_count": 5,
     "metadata": {},
     "output_type": "execute_result"
    }
   ],
   "source": [
    "df.head()"
   ]
  },
  {
   "cell_type": "code",
   "execution_count": 6,
   "metadata": {},
   "outputs": [],
   "source": [
    "df.index = df['ID']"
   ]
  },
  {
   "cell_type": "code",
   "execution_count": 7,
   "metadata": {},
   "outputs": [],
   "source": [
    "del df['ID']\n",
    "del df['Team']\n",
    "del df['Games']\n",
    "del df['City']"
   ]
  },
  {
   "cell_type": "markdown",
   "metadata": {},
   "source": [
    "We have now removed excess columns that repeat infomation and/or provide unneccessary information to give ourselves a cleaner look at the dataframe at hand. The first 5 rows of this new dataframe are below.</br>\n",
    "\n",
    "Unfortunately it appears that some of our athletes from early Olympic Games do not have a listed Height and Weight. As a result, we must remove their data as they will not be able to tell us very much about the makeup of our ideal Olympian.</br>\n",
    "\n",
    "Additionally, we must remove information about competitors in events that did not receive medals as we only want an Olympian that wins medals and acheives greatness."
   ]
  },
  {
   "cell_type": "code",
   "execution_count": 8,
   "metadata": {},
   "outputs": [
    {
     "data": {
      "text/html": [
       "<div>\n",
       "<table border=\"1\" class=\"dataframe\">\n",
       "  <thead>\n",
       "    <tr style=\"text-align: right;\">\n",
       "      <th></th>\n",
       "      <th>Name</th>\n",
       "      <th>Sex</th>\n",
       "      <th>Age</th>\n",
       "      <th>Height</th>\n",
       "      <th>Weight</th>\n",
       "      <th>NOC</th>\n",
       "      <th>Year</th>\n",
       "      <th>Season</th>\n",
       "      <th>Sport</th>\n",
       "      <th>Event</th>\n",
       "      <th>Medal</th>\n",
       "    </tr>\n",
       "    <tr>\n",
       "      <th>ID</th>\n",
       "      <th></th>\n",
       "      <th></th>\n",
       "      <th></th>\n",
       "      <th></th>\n",
       "      <th></th>\n",
       "      <th></th>\n",
       "      <th></th>\n",
       "      <th></th>\n",
       "      <th></th>\n",
       "      <th></th>\n",
       "      <th></th>\n",
       "    </tr>\n",
       "  </thead>\n",
       "  <tbody>\n",
       "    <tr>\n",
       "      <th>1</th>\n",
       "      <td>A Dijiang</td>\n",
       "      <td>M</td>\n",
       "      <td>24.0</td>\n",
       "      <td>180.0</td>\n",
       "      <td>80.0</td>\n",
       "      <td>CHN</td>\n",
       "      <td>1992</td>\n",
       "      <td>Summer</td>\n",
       "      <td>Basketball</td>\n",
       "      <td>Basketball Men's Basketball</td>\n",
       "      <td>NaN</td>\n",
       "    </tr>\n",
       "    <tr>\n",
       "      <th>2</th>\n",
       "      <td>A Lamusi</td>\n",
       "      <td>M</td>\n",
       "      <td>23.0</td>\n",
       "      <td>170.0</td>\n",
       "      <td>60.0</td>\n",
       "      <td>CHN</td>\n",
       "      <td>2012</td>\n",
       "      <td>Summer</td>\n",
       "      <td>Judo</td>\n",
       "      <td>Judo Men's Extra-Lightweight</td>\n",
       "      <td>NaN</td>\n",
       "    </tr>\n",
       "    <tr>\n",
       "      <th>3</th>\n",
       "      <td>Gunnar Nielsen Aaby</td>\n",
       "      <td>M</td>\n",
       "      <td>24.0</td>\n",
       "      <td>NaN</td>\n",
       "      <td>NaN</td>\n",
       "      <td>DEN</td>\n",
       "      <td>1920</td>\n",
       "      <td>Summer</td>\n",
       "      <td>Football</td>\n",
       "      <td>Football Men's Football</td>\n",
       "      <td>NaN</td>\n",
       "    </tr>\n",
       "    <tr>\n",
       "      <th>4</th>\n",
       "      <td>Edgar Lindenau Aabye</td>\n",
       "      <td>M</td>\n",
       "      <td>34.0</td>\n",
       "      <td>NaN</td>\n",
       "      <td>NaN</td>\n",
       "      <td>DEN</td>\n",
       "      <td>1900</td>\n",
       "      <td>Summer</td>\n",
       "      <td>Tug-Of-War</td>\n",
       "      <td>Tug-Of-War Men's Tug-Of-War</td>\n",
       "      <td>Gold</td>\n",
       "    </tr>\n",
       "    <tr>\n",
       "      <th>5</th>\n",
       "      <td>Christine Jacoba Aaftink</td>\n",
       "      <td>F</td>\n",
       "      <td>21.0</td>\n",
       "      <td>185.0</td>\n",
       "      <td>82.0</td>\n",
       "      <td>NED</td>\n",
       "      <td>1988</td>\n",
       "      <td>Winter</td>\n",
       "      <td>Speed Skating</td>\n",
       "      <td>Speed Skating Women's 500 metres</td>\n",
       "      <td>NaN</td>\n",
       "    </tr>\n",
       "  </tbody>\n",
       "</table>\n",
       "</div>"
      ],
      "text/plain": [
       "                        Name Sex   Age  Height  Weight  NOC  Year  Season  \\\n",
       "ID                                                                          \n",
       "1                  A Dijiang   M  24.0   180.0    80.0  CHN  1992  Summer   \n",
       "2                   A Lamusi   M  23.0   170.0    60.0  CHN  2012  Summer   \n",
       "3        Gunnar Nielsen Aaby   M  24.0     NaN     NaN  DEN  1920  Summer   \n",
       "4       Edgar Lindenau Aabye   M  34.0     NaN     NaN  DEN  1900  Summer   \n",
       "5   Christine Jacoba Aaftink   F  21.0   185.0    82.0  NED  1988  Winter   \n",
       "\n",
       "            Sport                             Event Medal  \n",
       "ID                                                         \n",
       "1      Basketball       Basketball Men's Basketball   NaN  \n",
       "2            Judo      Judo Men's Extra-Lightweight   NaN  \n",
       "3        Football           Football Men's Football   NaN  \n",
       "4      Tug-Of-War       Tug-Of-War Men's Tug-Of-War  Gold  \n",
       "5   Speed Skating  Speed Skating Women's 500 metres   NaN  "
      ]
     },
     "execution_count": 8,
     "metadata": {},
     "output_type": "execute_result"
    }
   ],
   "source": [
    "df.head()"
   ]
  },
  {
   "cell_type": "code",
   "execution_count": 9,
   "metadata": {},
   "outputs": [],
   "source": [
    "df = df.dropna()"
   ]
  },
  {
   "cell_type": "markdown",
   "metadata": {},
   "source": [
    "We now have a clean dataset, the first 5 lines of which are shown below, with columns including the ID number, name, sex, age, height, weight, nationality, year, season, sport, event, and medal of each athlete in each event we will be looking at to create our ultimate olympian."
   ]
  },
  {
   "cell_type": "code",
   "execution_count": 10,
   "metadata": {},
   "outputs": [
    {
     "data": {
      "text/html": [
       "<div>\n",
       "<table border=\"1\" class=\"dataframe\">\n",
       "  <thead>\n",
       "    <tr style=\"text-align: right;\">\n",
       "      <th></th>\n",
       "      <th>Name</th>\n",
       "      <th>Sex</th>\n",
       "      <th>Age</th>\n",
       "      <th>Height</th>\n",
       "      <th>Weight</th>\n",
       "      <th>NOC</th>\n",
       "      <th>Year</th>\n",
       "      <th>Season</th>\n",
       "      <th>Sport</th>\n",
       "      <th>Event</th>\n",
       "      <th>Medal</th>\n",
       "    </tr>\n",
       "    <tr>\n",
       "      <th>ID</th>\n",
       "      <th></th>\n",
       "      <th></th>\n",
       "      <th></th>\n",
       "      <th></th>\n",
       "      <th></th>\n",
       "      <th></th>\n",
       "      <th></th>\n",
       "      <th></th>\n",
       "      <th></th>\n",
       "      <th></th>\n",
       "      <th></th>\n",
       "    </tr>\n",
       "  </thead>\n",
       "  <tbody>\n",
       "    <tr>\n",
       "      <th>16</th>\n",
       "      <td>Juhamatti Tapio Aaltonen</td>\n",
       "      <td>M</td>\n",
       "      <td>28.0</td>\n",
       "      <td>184.0</td>\n",
       "      <td>85.0</td>\n",
       "      <td>FIN</td>\n",
       "      <td>2014</td>\n",
       "      <td>Winter</td>\n",
       "      <td>Ice Hockey</td>\n",
       "      <td>Ice Hockey Men's Ice Hockey</td>\n",
       "      <td>Bronze</td>\n",
       "    </tr>\n",
       "    <tr>\n",
       "      <th>17</th>\n",
       "      <td>Paavo Johannes Aaltonen</td>\n",
       "      <td>M</td>\n",
       "      <td>28.0</td>\n",
       "      <td>175.0</td>\n",
       "      <td>64.0</td>\n",
       "      <td>FIN</td>\n",
       "      <td>1948</td>\n",
       "      <td>Summer</td>\n",
       "      <td>Gymnastics</td>\n",
       "      <td>Gymnastics Men's Individual All-Around</td>\n",
       "      <td>Bronze</td>\n",
       "    </tr>\n",
       "    <tr>\n",
       "      <th>17</th>\n",
       "      <td>Paavo Johannes Aaltonen</td>\n",
       "      <td>M</td>\n",
       "      <td>28.0</td>\n",
       "      <td>175.0</td>\n",
       "      <td>64.0</td>\n",
       "      <td>FIN</td>\n",
       "      <td>1948</td>\n",
       "      <td>Summer</td>\n",
       "      <td>Gymnastics</td>\n",
       "      <td>Gymnastics Men's Team All-Around</td>\n",
       "      <td>Gold</td>\n",
       "    </tr>\n",
       "    <tr>\n",
       "      <th>17</th>\n",
       "      <td>Paavo Johannes Aaltonen</td>\n",
       "      <td>M</td>\n",
       "      <td>28.0</td>\n",
       "      <td>175.0</td>\n",
       "      <td>64.0</td>\n",
       "      <td>FIN</td>\n",
       "      <td>1948</td>\n",
       "      <td>Summer</td>\n",
       "      <td>Gymnastics</td>\n",
       "      <td>Gymnastics Men's Horse Vault</td>\n",
       "      <td>Gold</td>\n",
       "    </tr>\n",
       "    <tr>\n",
       "      <th>17</th>\n",
       "      <td>Paavo Johannes Aaltonen</td>\n",
       "      <td>M</td>\n",
       "      <td>28.0</td>\n",
       "      <td>175.0</td>\n",
       "      <td>64.0</td>\n",
       "      <td>FIN</td>\n",
       "      <td>1948</td>\n",
       "      <td>Summer</td>\n",
       "      <td>Gymnastics</td>\n",
       "      <td>Gymnastics Men's Pommelled Horse</td>\n",
       "      <td>Gold</td>\n",
       "    </tr>\n",
       "  </tbody>\n",
       "</table>\n",
       "</div>"
      ],
      "text/plain": [
       "                        Name Sex   Age  Height  Weight  NOC  Year  Season  \\\n",
       "ID                                                                          \n",
       "16  Juhamatti Tapio Aaltonen   M  28.0   184.0    85.0  FIN  2014  Winter   \n",
       "17   Paavo Johannes Aaltonen   M  28.0   175.0    64.0  FIN  1948  Summer   \n",
       "17   Paavo Johannes Aaltonen   M  28.0   175.0    64.0  FIN  1948  Summer   \n",
       "17   Paavo Johannes Aaltonen   M  28.0   175.0    64.0  FIN  1948  Summer   \n",
       "17   Paavo Johannes Aaltonen   M  28.0   175.0    64.0  FIN  1948  Summer   \n",
       "\n",
       "         Sport                                   Event   Medal  \n",
       "ID                                                              \n",
       "16  Ice Hockey             Ice Hockey Men's Ice Hockey  Bronze  \n",
       "17  Gymnastics  Gymnastics Men's Individual All-Around  Bronze  \n",
       "17  Gymnastics        Gymnastics Men's Team All-Around    Gold  \n",
       "17  Gymnastics            Gymnastics Men's Horse Vault    Gold  \n",
       "17  Gymnastics        Gymnastics Men's Pommelled Horse    Gold  "
      ]
     },
     "execution_count": 10,
     "metadata": {},
     "output_type": "execute_result"
    }
   ],
   "source": [
    "df.head()"
   ]
  },
  {
   "cell_type": "markdown",
   "metadata": {},
   "source": [
    "Now that our dataframe is clean, let's visualize some of our data to get a general understanding of the information with which we are working. This visualization component will allow us to further understand and interpret our data as we continue to work with the data at hand."
   ]
  },
  {
   "cell_type": "code",
   "execution_count": 11,
   "metadata": {},
   "outputs": [],
   "source": [
    "def age_plot_function(df):\n",
    "    y = df.value_counts(sort=False)\n",
    "    avg = df.mean()\n",
    "    plt.axvline(x=avg, color='red')\n",
    "    plt.plot(y)\n",
    "    plt.title('Ages of Olympians')\n",
    "    plt.ylabel('Frequency of Occurence')\n",
    "    plt.xlabel('Age (in Years)')\n",
    "    plt.show()"
   ]
  },
  {
   "cell_type": "markdown",
   "metadata": {},
   "source": [
    "Below, we are able to see the age distribution of Olympians. The distribution is skewed right with a mean of 25.43 years as marked by the red vertical line on the graph. The minimum age of any competitor is 13 years, while the maximum age of any competitor is 66 years. "
   ]
  },
  {
   "cell_type": "code",
   "execution_count": 12,
   "metadata": {},
   "outputs": [
    {
     "data": {
      "image/png": "[encoded data removed]",
      "text/plain": [
       "<matplotlib.figure.Figure at 0x113cda5f8>"
      ]
     },
     "metadata": {},
     "output_type": "display_data"
    }
   ],
   "source": [
    "age_plot_function(df['Age'])"
   ]
  },
  {
   "cell_type": "code",
   "execution_count": 13,
   "metadata": {},
   "outputs": [],
   "source": [
    "def height_plot_function(df):\n",
    "    y = df.value_counts(sort=False)\n",
    "    avg = df.mean()\n",
    "    plt.axvline(x=avg, color='red')\n",
    "    plt.plot(y)\n",
    "    plt.title('Heights of Olympians')\n",
    "    plt.ylabel('Frequency of Occurence')\n",
    "    plt.xlabel('Height (in Centimeters)')\n",
    "    plt.show()"
   ]
  },
  {
   "cell_type": "markdown",
   "metadata": {},
   "source": [
    "Furthermore, height appears to be normally distributed centering around the mean of 177.64 centimeters. This is substantially higher than the worldwide average human height of 168 cm."
   ]
  },
  {
   "cell_type": "code",
   "execution_count": 14,
   "metadata": {},
   "outputs": [
    {
     "data": {
      "image/png": "[encoded data removed]",
      "text/plain": [
       "<matplotlib.figure.Figure at 0x113caa278>"
      ]
     },
     "metadata": {},
     "output_type": "display_data"
    }
   ],
   "source": [
    "height_plot_function(df['Height'])"
   ]
  },
  {
   "cell_type": "code",
   "execution_count": 15,
   "metadata": {},
   "outputs": [],
   "source": [
    "def weight_plot_function(df):\n",
    "    y = df.value_counts(sort=False)\n",
    "    avg = df.mean()\n",
    "    plt.axvline(x=avg, color='red')\n",
    "    plt.plot(y)\n",
    "    plt.title('Weight of Olympians')\n",
    "    plt.ylabel('Frequency of Occurence')\n",
    "    plt.xlabel('Weight (in Kilograms)')\n",
    "    plt.show()"
   ]
  },
  {
   "cell_type": "markdown",
   "metadata": {},
   "source": [
    "Below is a graph that doesn't really make sense, so I need to fix it lol"
   ]
  },
  {
   "cell_type": "code",
   "execution_count": 16,
   "metadata": {},
   "outputs": [
    {
     "data": {
      "image/png": "[encoded data removed]",
      "text/plain": [
       "<matplotlib.figure.Figure at 0x10e9531d0>"
      ]
     },
     "metadata": {},
     "output_type": "display_data"
    }
   ],
   "source": [
    "weight_plot_function(df['Weight'])"
   ]
  },
  {
   "cell_type": "markdown",
   "metadata": {},
   "source": [
    "Now that we have a general understanding of the data regarding the physical nature of our Olympians, we will assign values to events resulting in a Gold, Silver, and Bronze medal in order to weight athlete's who achieve more successful results more heavily than those who achieve lesser results. </br>\n",
    "\n",
    "A \"Gold\" event will be worth 5 points as gold medals contribute the most to the legacy of a great Olympian. </br>\n",
    "\n",
    "A \"Silver\" event will be worth 3 points, as silver medals contribute less to the legacy of an Olympian as compared to Gold. </br>\n",
    "\n",
    "Finally, a \"Bronze\" event will be worth 1 point as it contributes substantially less than gold medals to the legacy of great Olympians and lesser still than silver medals."
   ]
  },
  {
   "cell_type": "code",
   "execution_count": 17,
   "metadata": {},
   "outputs": [],
   "source": [
    "df['medal_value'] = pd.np.where(df.Medal.str.contains('Gold'), 5,\n",
    "                    pd.np.where(df.Medal.str.contains('Silver'), 3,\n",
    "                    pd.np.where(df.Medal.str.contains('Bronze'), 1, 'medal_value')))"
   ]
  },
  {
   "cell_type": "code",
   "execution_count": 18,
   "metadata": {},
   "outputs": [
    {
     "data": {
      "text/html": [
       "<div>\n",
       "<table border=\"1\" class=\"dataframe\">\n",
       "  <thead>\n",
       "    <tr style=\"text-align: right;\">\n",
       "      <th></th>\n",
       "      <th>Name</th>\n",
       "      <th>Sex</th>\n",
       "      <th>Age</th>\n",
       "      <th>Height</th>\n",
       "      <th>Weight</th>\n",
       "      <th>NOC</th>\n",
       "      <th>Year</th>\n",
       "      <th>Season</th>\n",
       "      <th>Sport</th>\n",
       "      <th>Event</th>\n",
       "      <th>Medal</th>\n",
       "      <th>medal_value</th>\n",
       "    </tr>\n",
       "    <tr>\n",
       "      <th>ID</th>\n",
       "      <th></th>\n",
       "      <th></th>\n",
       "      <th></th>\n",
       "      <th></th>\n",
       "      <th></th>\n",
       "      <th></th>\n",
       "      <th></th>\n",
       "      <th></th>\n",
       "      <th></th>\n",
       "      <th></th>\n",
       "      <th></th>\n",
       "      <th></th>\n",
       "    </tr>\n",
       "  </thead>\n",
       "  <tbody>\n",
       "    <tr>\n",
       "      <th>16</th>\n",
       "      <td>Juhamatti Tapio Aaltonen</td>\n",
       "      <td>M</td>\n",
       "      <td>28.0</td>\n",
       "      <td>184.0</td>\n",
       "      <td>85.0</td>\n",
       "      <td>FIN</td>\n",
       "      <td>2014</td>\n",
       "      <td>Winter</td>\n",
       "      <td>Ice Hockey</td>\n",
       "      <td>Ice Hockey Men's Ice Hockey</td>\n",
       "      <td>Bronze</td>\n",
       "      <td>1</td>\n",
       "    </tr>\n",
       "    <tr>\n",
       "      <th>17</th>\n",
       "      <td>Paavo Johannes Aaltonen</td>\n",
       "      <td>M</td>\n",
       "      <td>28.0</td>\n",
       "      <td>175.0</td>\n",
       "      <td>64.0</td>\n",
       "      <td>FIN</td>\n",
       "      <td>1948</td>\n",
       "      <td>Summer</td>\n",
       "      <td>Gymnastics</td>\n",
       "      <td>Gymnastics Men's Individual All-Around</td>\n",
       "      <td>Bronze</td>\n",
       "      <td>1</td>\n",
       "    </tr>\n",
       "    <tr>\n",
       "      <th>17</th>\n",
       "      <td>Paavo Johannes Aaltonen</td>\n",
       "      <td>M</td>\n",
       "      <td>28.0</td>\n",
       "      <td>175.0</td>\n",
       "      <td>64.0</td>\n",
       "      <td>FIN</td>\n",
       "      <td>1948</td>\n",
       "      <td>Summer</td>\n",
       "      <td>Gymnastics</td>\n",
       "      <td>Gymnastics Men's Team All-Around</td>\n",
       "      <td>Gold</td>\n",
       "      <td>5</td>\n",
       "    </tr>\n",
       "    <tr>\n",
       "      <th>17</th>\n",
       "      <td>Paavo Johannes Aaltonen</td>\n",
       "      <td>M</td>\n",
       "      <td>28.0</td>\n",
       "      <td>175.0</td>\n",
       "      <td>64.0</td>\n",
       "      <td>FIN</td>\n",
       "      <td>1948</td>\n",
       "      <td>Summer</td>\n",
       "      <td>Gymnastics</td>\n",
       "      <td>Gymnastics Men's Horse Vault</td>\n",
       "      <td>Gold</td>\n",
       "      <td>5</td>\n",
       "    </tr>\n",
       "    <tr>\n",
       "      <th>17</th>\n",
       "      <td>Paavo Johannes Aaltonen</td>\n",
       "      <td>M</td>\n",
       "      <td>28.0</td>\n",
       "      <td>175.0</td>\n",
       "      <td>64.0</td>\n",
       "      <td>FIN</td>\n",
       "      <td>1948</td>\n",
       "      <td>Summer</td>\n",
       "      <td>Gymnastics</td>\n",
       "      <td>Gymnastics Men's Pommelled Horse</td>\n",
       "      <td>Gold</td>\n",
       "      <td>5</td>\n",
       "    </tr>\n",
       "  </tbody>\n",
       "</table>\n",
       "</div>"
      ],
      "text/plain": [
       "                        Name Sex   Age  Height  Weight  NOC  Year  Season  \\\n",
       "ID                                                                          \n",
       "16  Juhamatti Tapio Aaltonen   M  28.0   184.0    85.0  FIN  2014  Winter   \n",
       "17   Paavo Johannes Aaltonen   M  28.0   175.0    64.0  FIN  1948  Summer   \n",
       "17   Paavo Johannes Aaltonen   M  28.0   175.0    64.0  FIN  1948  Summer   \n",
       "17   Paavo Johannes Aaltonen   M  28.0   175.0    64.0  FIN  1948  Summer   \n",
       "17   Paavo Johannes Aaltonen   M  28.0   175.0    64.0  FIN  1948  Summer   \n",
       "\n",
       "         Sport                                   Event   Medal medal_value  \n",
       "ID                                                                          \n",
       "16  Ice Hockey             Ice Hockey Men's Ice Hockey  Bronze           1  \n",
       "17  Gymnastics  Gymnastics Men's Individual All-Around  Bronze           1  \n",
       "17  Gymnastics        Gymnastics Men's Team All-Around    Gold           5  \n",
       "17  Gymnastics            Gymnastics Men's Horse Vault    Gold           5  \n",
       "17  Gymnastics        Gymnastics Men's Pommelled Horse    Gold           5  "
      ]
     },
     "execution_count": 18,
     "metadata": {},
     "output_type": "execute_result"
    }
   ],
   "source": [
    "df.head()"
   ]
  },
  {
   "cell_type": "markdown",
   "metadata": {},
   "source": [
    "Now that we are rewarding our best atheletes for their successes, we must sort our dataframe into Male and Female Olympians as the Olympics are, in reality, divided into events based on gender."
   ]
  },
  {
   "cell_type": "code",
   "execution_count": 19,
   "metadata": {},
   "outputs": [],
   "source": [
    "df_male = df[df.Sex == 'M']\n",
    "df_female = df[df.Sex == 'F']"
   ]
  },
  {
   "cell_type": "code",
   "execution_count": 20,
   "metadata": {},
   "outputs": [
    {
     "data": {
      "text/html": [
       "<div>\n",
       "<table border=\"1\" class=\"dataframe\">\n",
       "  <thead>\n",
       "    <tr style=\"text-align: right;\">\n",
       "      <th></th>\n",
       "      <th>Name</th>\n",
       "      <th>Sex</th>\n",
       "      <th>Age</th>\n",
       "      <th>Height</th>\n",
       "      <th>Weight</th>\n",
       "      <th>NOC</th>\n",
       "      <th>Year</th>\n",
       "      <th>Season</th>\n",
       "      <th>Sport</th>\n",
       "      <th>Event</th>\n",
       "      <th>Medal</th>\n",
       "      <th>medal_value</th>\n",
       "    </tr>\n",
       "    <tr>\n",
       "      <th>ID</th>\n",
       "      <th></th>\n",
       "      <th></th>\n",
       "      <th></th>\n",
       "      <th></th>\n",
       "      <th></th>\n",
       "      <th></th>\n",
       "      <th></th>\n",
       "      <th></th>\n",
       "      <th></th>\n",
       "      <th></th>\n",
       "      <th></th>\n",
       "      <th></th>\n",
       "    </tr>\n",
       "  </thead>\n",
       "  <tbody>\n",
       "    <tr>\n",
       "      <th>16</th>\n",
       "      <td>Juhamatti Tapio Aaltonen</td>\n",
       "      <td>M</td>\n",
       "      <td>28.0</td>\n",
       "      <td>184.0</td>\n",
       "      <td>85.0</td>\n",
       "      <td>FIN</td>\n",
       "      <td>2014</td>\n",
       "      <td>Winter</td>\n",
       "      <td>Ice Hockey</td>\n",
       "      <td>Ice Hockey Men's Ice Hockey</td>\n",
       "      <td>Bronze</td>\n",
       "      <td>1</td>\n",
       "    </tr>\n",
       "    <tr>\n",
       "      <th>17</th>\n",
       "      <td>Paavo Johannes Aaltonen</td>\n",
       "      <td>M</td>\n",
       "      <td>28.0</td>\n",
       "      <td>175.0</td>\n",
       "      <td>64.0</td>\n",
       "      <td>FIN</td>\n",
       "      <td>1948</td>\n",
       "      <td>Summer</td>\n",
       "      <td>Gymnastics</td>\n",
       "      <td>Gymnastics Men's Individual All-Around</td>\n",
       "      <td>Bronze</td>\n",
       "      <td>1</td>\n",
       "    </tr>\n",
       "    <tr>\n",
       "      <th>17</th>\n",
       "      <td>Paavo Johannes Aaltonen</td>\n",
       "      <td>M</td>\n",
       "      <td>28.0</td>\n",
       "      <td>175.0</td>\n",
       "      <td>64.0</td>\n",
       "      <td>FIN</td>\n",
       "      <td>1948</td>\n",
       "      <td>Summer</td>\n",
       "      <td>Gymnastics</td>\n",
       "      <td>Gymnastics Men's Team All-Around</td>\n",
       "      <td>Gold</td>\n",
       "      <td>5</td>\n",
       "    </tr>\n",
       "    <tr>\n",
       "      <th>17</th>\n",
       "      <td>Paavo Johannes Aaltonen</td>\n",
       "      <td>M</td>\n",
       "      <td>28.0</td>\n",
       "      <td>175.0</td>\n",
       "      <td>64.0</td>\n",
       "      <td>FIN</td>\n",
       "      <td>1948</td>\n",
       "      <td>Summer</td>\n",
       "      <td>Gymnastics</td>\n",
       "      <td>Gymnastics Men's Horse Vault</td>\n",
       "      <td>Gold</td>\n",
       "      <td>5</td>\n",
       "    </tr>\n",
       "    <tr>\n",
       "      <th>17</th>\n",
       "      <td>Paavo Johannes Aaltonen</td>\n",
       "      <td>M</td>\n",
       "      <td>28.0</td>\n",
       "      <td>175.0</td>\n",
       "      <td>64.0</td>\n",
       "      <td>FIN</td>\n",
       "      <td>1948</td>\n",
       "      <td>Summer</td>\n",
       "      <td>Gymnastics</td>\n",
       "      <td>Gymnastics Men's Pommelled Horse</td>\n",
       "      <td>Gold</td>\n",
       "      <td>5</td>\n",
       "    </tr>\n",
       "  </tbody>\n",
       "</table>\n",
       "</div>"
      ],
      "text/plain": [
       "                        Name Sex   Age  Height  Weight  NOC  Year  Season  \\\n",
       "ID                                                                          \n",
       "16  Juhamatti Tapio Aaltonen   M  28.0   184.0    85.0  FIN  2014  Winter   \n",
       "17   Paavo Johannes Aaltonen   M  28.0   175.0    64.0  FIN  1948  Summer   \n",
       "17   Paavo Johannes Aaltonen   M  28.0   175.0    64.0  FIN  1948  Summer   \n",
       "17   Paavo Johannes Aaltonen   M  28.0   175.0    64.0  FIN  1948  Summer   \n",
       "17   Paavo Johannes Aaltonen   M  28.0   175.0    64.0  FIN  1948  Summer   \n",
       "\n",
       "         Sport                                   Event   Medal medal_value  \n",
       "ID                                                                          \n",
       "16  Ice Hockey             Ice Hockey Men's Ice Hockey  Bronze           1  \n",
       "17  Gymnastics  Gymnastics Men's Individual All-Around  Bronze           1  \n",
       "17  Gymnastics        Gymnastics Men's Team All-Around    Gold           5  \n",
       "17  Gymnastics            Gymnastics Men's Horse Vault    Gold           5  \n",
       "17  Gymnastics        Gymnastics Men's Pommelled Horse    Gold           5  "
      ]
     },
     "execution_count": 20,
     "metadata": {},
     "output_type": "execute_result"
    }
   ],
   "source": [
    "df_male.head()"
   ]
  },
  {
   "cell_type": "code",
   "execution_count": 21,
   "metadata": {},
   "outputs": [
    {
     "data": {
      "text/html": [
       "<div>\n",
       "<table border=\"1\" class=\"dataframe\">\n",
       "  <thead>\n",
       "    <tr style=\"text-align: right;\">\n",
       "      <th></th>\n",
       "      <th>Name</th>\n",
       "      <th>Sex</th>\n",
       "      <th>Age</th>\n",
       "      <th>Height</th>\n",
       "      <th>Weight</th>\n",
       "      <th>NOC</th>\n",
       "      <th>Year</th>\n",
       "      <th>Season</th>\n",
       "      <th>Sport</th>\n",
       "      <th>Event</th>\n",
       "      <th>Medal</th>\n",
       "      <th>medal_value</th>\n",
       "    </tr>\n",
       "    <tr>\n",
       "      <th>ID</th>\n",
       "      <th></th>\n",
       "      <th></th>\n",
       "      <th></th>\n",
       "      <th></th>\n",
       "      <th></th>\n",
       "      <th></th>\n",
       "      <th></th>\n",
       "      <th></th>\n",
       "      <th></th>\n",
       "      <th></th>\n",
       "      <th></th>\n",
       "      <th></th>\n",
       "    </tr>\n",
       "  </thead>\n",
       "  <tbody>\n",
       "    <tr>\n",
       "      <th>37</th>\n",
       "      <td>Ann Kristin Aarnes</td>\n",
       "      <td>F</td>\n",
       "      <td>23.0</td>\n",
       "      <td>182.0</td>\n",
       "      <td>64.0</td>\n",
       "      <td>NOR</td>\n",
       "      <td>1996</td>\n",
       "      <td>Summer</td>\n",
       "      <td>Football</td>\n",
       "      <td>Football Women's Football</td>\n",
       "      <td>Bronze</td>\n",
       "      <td>1</td>\n",
       "    </tr>\n",
       "    <tr>\n",
       "      <th>65</th>\n",
       "      <td>Patimat Abakarova</td>\n",
       "      <td>F</td>\n",
       "      <td>21.0</td>\n",
       "      <td>165.0</td>\n",
       "      <td>49.0</td>\n",
       "      <td>AZE</td>\n",
       "      <td>2016</td>\n",
       "      <td>Summer</td>\n",
       "      <td>Taekwondo</td>\n",
       "      <td>Taekwondo Women's Flyweight</td>\n",
       "      <td>Bronze</td>\n",
       "      <td>1</td>\n",
       "    </tr>\n",
       "    <tr>\n",
       "      <th>67</th>\n",
       "      <td>Mariya Vasilyevna Abakumova (-Tarabina)</td>\n",
       "      <td>F</td>\n",
       "      <td>22.0</td>\n",
       "      <td>179.0</td>\n",
       "      <td>80.0</td>\n",
       "      <td>RUS</td>\n",
       "      <td>2008</td>\n",
       "      <td>Summer</td>\n",
       "      <td>Athletics</td>\n",
       "      <td>Athletics Women's Javelin Throw</td>\n",
       "      <td>Silver</td>\n",
       "      <td>3</td>\n",
       "    </tr>\n",
       "    <tr>\n",
       "      <th>90</th>\n",
       "      <td>Tamila Rashidovna Abasova</td>\n",
       "      <td>F</td>\n",
       "      <td>21.0</td>\n",
       "      <td>163.0</td>\n",
       "      <td>60.0</td>\n",
       "      <td>RUS</td>\n",
       "      <td>2004</td>\n",
       "      <td>Summer</td>\n",
       "      <td>Cycling</td>\n",
       "      <td>Cycling Women's Sprint</td>\n",
       "      <td>Silver</td>\n",
       "      <td>3</td>\n",
       "    </tr>\n",
       "    <tr>\n",
       "      <th>153</th>\n",
       "      <td>Monica Cecilia Abbott</td>\n",
       "      <td>F</td>\n",
       "      <td>23.0</td>\n",
       "      <td>191.0</td>\n",
       "      <td>88.0</td>\n",
       "      <td>USA</td>\n",
       "      <td>2008</td>\n",
       "      <td>Summer</td>\n",
       "      <td>Softball</td>\n",
       "      <td>Softball Women's Softball</td>\n",
       "      <td>Silver</td>\n",
       "      <td>3</td>\n",
       "    </tr>\n",
       "  </tbody>\n",
       "</table>\n",
       "</div>"
      ],
      "text/plain": [
       "                                        Name Sex   Age  Height  Weight  NOC  \\\n",
       "ID                                                                            \n",
       "37                        Ann Kristin Aarnes   F  23.0   182.0    64.0  NOR   \n",
       "65                         Patimat Abakarova   F  21.0   165.0    49.0  AZE   \n",
       "67   Mariya Vasilyevna Abakumova (-Tarabina)   F  22.0   179.0    80.0  RUS   \n",
       "90                 Tamila Rashidovna Abasova   F  21.0   163.0    60.0  RUS   \n",
       "153                    Monica Cecilia Abbott   F  23.0   191.0    88.0  USA   \n",
       "\n",
       "     Year  Season      Sport                            Event   Medal  \\\n",
       "ID                                                                      \n",
       "37   1996  Summer   Football        Football Women's Football  Bronze   \n",
       "65   2016  Summer  Taekwondo      Taekwondo Women's Flyweight  Bronze   \n",
       "67   2008  Summer  Athletics  Athletics Women's Javelin Throw  Silver   \n",
       "90   2004  Summer    Cycling           Cycling Women's Sprint  Silver   \n",
       "153  2008  Summer   Softball        Softball Women's Softball  Silver   \n",
       "\n",
       "    medal_value  \n",
       "ID               \n",
       "37            1  \n",
       "65            1  \n",
       "67            3  \n",
       "90            3  \n",
       "153           3  "
      ]
     },
     "execution_count": 21,
     "metadata": {},
     "output_type": "execute_result"
    }
   ],
   "source": [
    "df_female.head()"
   ]
  },
  {
   "cell_type": "markdown",
   "metadata": {},
   "source": [
    "Now that we have our dataframes in male and female groupings, it is time to look at the physical attributes that contribute to the success of Olympic athletes in our data. </br>\n",
    "\n",
    "What is the ideal age of a Male Athlete in the Olympics? A female athlete? What will their height be? Their Weight? </br>\n",
    "\n",
    "In order to find out, we must use our medal values to weigh the outcomes and thus the athletes in each event. This will tell us the age, height, and weight with which we will most likely be able to achieve Olympic glory."
   ]
  },
  {
   "cell_type": "code",
   "execution_count": 22,
   "metadata": {},
   "outputs": [],
   "source": [
    "def ideal_age(df):\n",
    "    ideal_age = sum((df.Age.astype(float) * df.medal_value.astype(float))) / sum(df.medal_value.astype(float))\n",
    "    return ideal_age.round(2)"
   ]
  },
  {
   "cell_type": "code",
   "execution_count": 23,
   "metadata": {},
   "outputs": [],
   "source": [
    "def ideal_height(df):\n",
    "    ideal_height = sum((df.Height.astype(float) * df.medal_value.astype(float))) / sum(df.medal_value.astype(float))\n",
    "    return ideal_height.round(2)"
   ]
  },
  {
   "cell_type": "code",
   "execution_count": 24,
   "metadata": {},
   "outputs": [],
   "source": [
    "def ideal_weight(df):\n",
    "    ideal_weight = sum((df.Weight.astype(float) * df.medal_value.astype(float))) / sum(df.medal_value.astype(float))\n",
    "    return ideal_weight.round(2)"
   ]
  },
  {
   "cell_type": "code",
   "execution_count": 25,
   "metadata": {},
   "outputs": [
    {
     "name": "stdout",
     "output_type": "stream",
     "text": [
      "Ideal Male Olympian Age: 25.85 years old\n",
      "Ideal Male Olympian Height: 181.5 cm\n",
      "Ideal Male Olympian Weight: 79.4 kg \n",
      "\n",
      "Ideal Female Olympian Age: 24.51 years old\n",
      "Ideal Female Olympian Height: 170.63 cm\n",
      "Ideal Female Olympian Weight: 63.32 kg\n"
     ]
    }
   ],
   "source": [
    "print('Ideal Male Olympian Age:', ideal_age(df_male), 'years old')\n",
    "print('Ideal Male Olympian Height:', ideal_height(df_male), 'cm')\n",
    "print('Ideal Male Olympian Weight:', ideal_weight(df_male), 'kg', '\\n')\n",
    "print('Ideal Female Olympian Age:', ideal_age(df_female), 'years old')\n",
    "print('Ideal Female Olympian Height:', ideal_height(df_female), 'cm')\n",
    "print('Ideal Female Olympian Weight:', ideal_weight(df_female), 'kg')"
   ]
  },
  {
   "cell_type": "markdown",
   "metadata": {},
   "source": [
    "As we can see above, our perfect **Male Olympian is about 26 years old, 182 centimeters tall, and 79 kilograms.** Our perfect **Female Olympian is 25 years old, 171 centimeters, and 63 kilograms.** These ages, heights, and weights will make our athlete competitive in a variety of sports and thus will give them the greatest chance of winning, were they to enter every event possible.\n",
    "\n",
    "Are physical attributes alone enough to create a world renowned Olympic athlete, however? In order to test this, we must look at the countries our athletes come from to determine other factors in play beyond physical makeup."
   ]
  },
  {
   "cell_type": "code",
   "execution_count": 26,
   "metadata": {},
   "outputs": [],
   "source": [
    "winningest_countries = pd.value_counts(df.NOC.ravel())"
   ]
  },
  {
   "cell_type": "code",
   "execution_count": 27,
   "metadata": {},
   "outputs": [
    {
     "data": {
      "text/plain": [
       "USA    4383\n",
       "URS    2246\n",
       "GER    1612\n",
       "AUS    1206\n",
       "RUS    1134\n",
       "dtype: int64"
      ]
     },
     "execution_count": 27,
     "metadata": {},
     "output_type": "execute_result"
    }
   ],
   "source": [
    "winningest_countries.head()"
   ]
  },
  {
   "cell_type": "markdown",
   "metadata": {},
   "source": [
    "As we can see, there are clearly countries that dominate the Olympic Games. For example, it is far easier to win an Olympic medal as an athlete from a developed country. The United States and Russia lead the way with 4,383 medals and 3,380 medals (USSR: 2246 + Russia: 1134) respectively. </br>\n",
    "\n",
    "As a result, our athlete must grow up in the 1st world in a develope or increasingly developing country if we want them to have the best chance of success in the Olympic Games. Now that we know where to raise our athlete and what size they should be, what should we name this athlete?"
   ]
  },
  {
   "cell_type": "code",
   "execution_count": 28,
   "metadata": {},
   "outputs": [],
   "source": [
    "def naming_our_athlete(df):\n",
    "    ideal_name = sum(df['Name'].str.len() * df.medal_value.astype(float)) / sum(df.medal_value.astype(float))\n",
    "    return ideal_name.round(2)"
   ]
  },
  {
   "cell_type": "code",
   "execution_count": 29,
   "metadata": {},
   "outputs": [
    {
     "name": "stdout",
     "output_type": "stream",
     "text": [
      "Our Male Athlete's name should be 19.78 characters long\n",
      "Our Female Athlete's name should be 23.46 characters long\n"
     ]
    }
   ],
   "source": [
    "print(\"Our Male Athlete's name should be\", naming_our_athlete(df_male), \"characters long\")\n",
    "print(\"Our Female Athlete's name should be\", naming_our_athlete(df_female), \"characters long\")"
   ]
  },
  {
   "cell_type": "markdown",
   "metadata": {},
   "source": [
    "As we can see, the best male athletes have names with roughly 20 characters and the best femal athletes have names with roughly 23 characters. As a result, we will call our male athlete Marcus Leon Williams who will hail from the United States and our female athlete Nastia Maria Luchenova who will hail from Russia. </br>\n",
    "\n",
    "**Final Results:** </br>\n",
    "\n",
    "    Ideal Male Olympian:\n",
    "    \n",
    "    Mr. Marcus Leon Williams\n",
    "        Age: 26 years old\n",
    "        Height: 182 centimeters\n",
    "        Weight: 79 kilograms\n",
    "        Nationality: USA\n",
    "    \n",
    "    Ideal Female Olympian:\n",
    "    \n",
    "    Miss Nastia Maria Luchenova\n",
    "        Age: 25 years old\n",
    "        Height: 171 centimeters\n",
    "        Weight: 63 kilograms\n",
    "        Nationality: Russia\n",
    "    \n",
    "Now that we have created our superior athletes, Mr. Marcus Leon Williams and Miss Nastia Maria Luchenova, it is time to put them to the test. See you in Tokyo in 2020!"
   ]
  }
 ],
 "metadata": {
  "kernelspec": {
   "display_name": "Python 3",
   "language": "python",
   "name": "python3"
  },
  "language_info": {
   "codemirror_mode": {
    "name": "ipython",
    "version": 3
   },
   "file_extension": ".py",
   "mimetype": "text/x-python",
   "name": "python",
   "nbconvert_exporter": "python",
   "pygments_lexer": "ipython3",
   "version": "3.5.4"
  }
 },
 "nbformat": 4,
 "nbformat_minor": 2
}
